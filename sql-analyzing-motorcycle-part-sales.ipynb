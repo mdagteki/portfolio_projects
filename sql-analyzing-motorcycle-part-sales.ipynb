{
 "cells": [
  {
   "cell_type": "markdown",
   "id": "60509e92",
   "metadata": {
    "papermill": {
     "duration": 0.006289,
     "end_time": "2023-12-31T01:53:27.317030",
     "exception": false,
     "start_time": "2023-12-31T01:53:27.310741",
     "status": "completed"
    },
    "tags": []
   },
   "source": [
    "# Analyzing Motorcycle Part Sales with SQL\n",
    "\n",
    "You're working for a company that sells motorcycle parts, and they've asked for some help in analyzing their sales data!\n",
    "\n",
    "They operate three warehouses in the area, selling both retail and wholesale. They offer a variety of parts and accept credit cards, cash, and bank transfer as payment methods. However, each payment type incurs a different fee.\n",
    "\n",
    "The board of directors wants to gain a better understanding of wholesale revenue by product line, and how this varies month-to-month and across warehouses. You have been tasked with calculating net revenue for each product line and grouping results by month and warehouse. The results should be filtered so that only `\"Wholesale\"` orders are included.\n",
    "\n",
    "They have provided you with access to their database, which contains the following table called `sales`:\n",
    "\n",
    "## Sales\n",
    "| Column | Data type | Description |\n",
    "|--------|-----------|-------------|\n",
    "| `order_number` | `VARCHAR` | Unique order number. |\n",
    "| `date` | `DATE` | Date of the order, from June to August 2021. |\n",
    "| `warehouse` | `VARCHAR` | The warehouse that the order was made from&mdash; `North`, `Central`, or `West`. |\n",
    "| `client_type` | `VARCHAR` | Whether the order was `Retail` or `Wholesale`. |\n",
    "| `product_line` | `VARCHAR` | Type of product ordered. |\n",
    "| `quantity` | `INT` | Number of products ordered. | \n",
    "| `unit_price` | `FLOAT` | Price per product (dollars). |\n",
    "| `total` | `FLOAT` | Total price of the order (dollars). |\n",
    "| `payment` | `VARCHAR` | Payment method&mdash;`Credit card`, `Transfer`, or `Cash`. |"
   ]
  },
  {
   "cell_type": "code",
   "execution_count": 1,
   "id": "bef93e9a",
   "metadata": {
    "collapsed": true,
    "execution": {
     "iopub.execute_input": "2023-12-31T01:53:27.331728Z",
     "iopub.status.busy": "2023-12-31T01:53:27.330486Z",
     "iopub.status.idle": "2023-12-31T01:53:44.540923Z",
     "shell.execute_reply": "2023-12-31T01:53:44.539733Z"
    },
    "jupyter": {
     "outputs_hidden": true,
     "source_hidden": true
    },
    "papermill": {
     "duration": 17.221103,
     "end_time": "2023-12-31T01:53:44.544032",
     "exception": false,
     "start_time": "2023-12-31T01:53:27.322929",
     "status": "completed"
    },
    "tags": []
   },
   "outputs": [
    {
     "name": "stdout",
     "output_type": "stream",
     "text": [
      "Collecting duckdb\r\n",
      "  Obtaining dependency information for duckdb from https://files.pythonhosted.org/packages/7c/d5/7688cdc1b57c9ada17b6f6143a923606294b462e4b15e3ac249c04649bde/duckdb-0.9.2-cp310-cp310-manylinux_2_17_x86_64.manylinux2014_x86_64.whl.metadata\r\n",
      "  Downloading duckdb-0.9.2-cp310-cp310-manylinux_2_17_x86_64.manylinux2014_x86_64.whl.metadata (760 bytes)\r\n",
      "Downloading duckdb-0.9.2-cp310-cp310-manylinux_2_17_x86_64.manylinux2014_x86_64.whl (16.5 MB)\r\n",
      "\u001b[2K   \u001b[90m━━━━━━━━━━━━━━━━━━━━━━━━━━━━━━━━━━━━━━━━\u001b[0m \u001b[32m16.5/16.5 MB\u001b[0m \u001b[31m53.1 MB/s\u001b[0m eta \u001b[36m0:00:00\u001b[0m\r\n",
      "\u001b[?25hInstalling collected packages: duckdb\r\n",
      "Successfully installed duckdb-0.9.2\r\n",
      "Note: you may need to restart the kernel to use updated packages.\n"
     ]
    }
   ],
   "source": [
    "pip install duckdb"
   ]
  },
  {
   "cell_type": "code",
   "execution_count": 2,
   "id": "7f3ec17e",
   "metadata": {
    "execution": {
     "iopub.execute_input": "2023-12-31T01:53:44.560379Z",
     "iopub.status.busy": "2023-12-31T01:53:44.559850Z",
     "iopub.status.idle": "2023-12-31T01:53:45.193320Z",
     "shell.execute_reply": "2023-12-31T01:53:45.192106Z"
    },
    "papermill": {
     "duration": 0.645624,
     "end_time": "2023-12-31T01:53:45.196562",
     "exception": false,
     "start_time": "2023-12-31T01:53:44.550938",
     "status": "completed"
    },
    "tags": []
   },
   "outputs": [],
   "source": [
    "import duckdb\n",
    "import pandas as pd"
   ]
  },
  {
   "cell_type": "code",
   "execution_count": 3,
   "id": "d70d85a3",
   "metadata": {
    "execution": {
     "iopub.execute_input": "2023-12-31T01:53:45.213223Z",
     "iopub.status.busy": "2023-12-31T01:53:45.212497Z",
     "iopub.status.idle": "2023-12-31T01:53:45.241694Z",
     "shell.execute_reply": "2023-12-31T01:53:45.240256Z"
    },
    "papermill": {
     "duration": 0.041348,
     "end_time": "2023-12-31T01:53:45.244899",
     "exception": false,
     "start_time": "2023-12-31T01:53:45.203551",
     "status": "completed"
    },
    "tags": []
   },
   "outputs": [],
   "source": [
    "sales = pd.read_csv(\"/kaggle/input/portfolio-projects-data/sales_data.csv\")"
   ]
  },
  {
   "cell_type": "code",
   "execution_count": 4,
   "id": "9e10d9f2",
   "metadata": {
    "customType": "sql",
    "dataFrameVariableName": "df",
    "execution": {
     "iopub.execute_input": "2023-12-31T01:53:45.261277Z",
     "iopub.status.busy": "2023-12-31T01:53:45.260746Z",
     "iopub.status.idle": "2023-12-31T01:53:45.315141Z",
     "shell.execute_reply": "2023-12-31T01:53:45.313912Z"
    },
    "executionCancelledAt": null,
    "executionTime": 769,
    "lastExecutedAt": 1703981433779,
    "lastScheduledRunId": null,
    "lastSuccessfullyExecutedCode": "\nSELECT\n\tproduct_line,\n\tTO_CHAR(date, 'Month') AS Month,\n\twarehouse,\n\tROUND(SUM(total * (1 - payment_fee))::numeric,2) AS net_revenue\nFROM sales\nWHERE client_type = 'Wholesale'\nGROUP BY product_line,  warehouse, Month\nORDER BY product_line, Month, net_revenue DESC;\n",
    "outputsMetadata": {
     "0": {
      "height": 316,
      "type": "dataFrame"
     }
    },
    "papermill": {
     "duration": 0.06607,
     "end_time": "2023-12-31T01:53:45.317768",
     "exception": false,
     "start_time": "2023-12-31T01:53:45.251698",
     "status": "completed"
    },
    "sqlCellMode": "dataFrame",
    "sqlSource": {
     "integrationId": "89e17161-a224-4a8a-846b-0adc0fe7a4b1",
     "type": "integration"
    },
    "tags": []
   },
   "outputs": [
    {
     "data": {
      "text/html": [
       "<div>\n",
       "<style scoped>\n",
       "    .dataframe tbody tr th:only-of-type {\n",
       "        vertical-align: middle;\n",
       "    }\n",
       "\n",
       "    .dataframe tbody tr th {\n",
       "        vertical-align: top;\n",
       "    }\n",
       "\n",
       "    .dataframe thead th {\n",
       "        text-align: right;\n",
       "    }\n",
       "</style>\n",
       "<table border=\"1\" class=\"dataframe\">\n",
       "  <thead>\n",
       "    <tr style=\"text-align: right;\">\n",
       "      <th></th>\n",
       "      <th>product_line</th>\n",
       "      <th>Month</th>\n",
       "      <th>warehouse</th>\n",
       "      <th>net_revenue</th>\n",
       "    </tr>\n",
       "  </thead>\n",
       "  <tbody>\n",
       "    <tr>\n",
       "      <th>0</th>\n",
       "      <td>Breaking system</td>\n",
       "      <td>2021-06-05</td>\n",
       "      <td>Central</td>\n",
       "      <td>54.60</td>\n",
       "    </tr>\n",
       "    <tr>\n",
       "      <th>1</th>\n",
       "      <td>Breaking system</td>\n",
       "      <td>2021-06-08</td>\n",
       "      <td>West</td>\n",
       "      <td>1212.77</td>\n",
       "    </tr>\n",
       "    <tr>\n",
       "      <th>2</th>\n",
       "      <td>Breaking system</td>\n",
       "      <td>2021-06-08</td>\n",
       "      <td>Central</td>\n",
       "      <td>830.67</td>\n",
       "    </tr>\n",
       "    <tr>\n",
       "      <th>3</th>\n",
       "      <td>Breaking system</td>\n",
       "      <td>2021-06-09</td>\n",
       "      <td>Central</td>\n",
       "      <td>594.24</td>\n",
       "    </tr>\n",
       "    <tr>\n",
       "      <th>4</th>\n",
       "      <td>Breaking system</td>\n",
       "      <td>2021-06-11</td>\n",
       "      <td>Central</td>\n",
       "      <td>404.93</td>\n",
       "    </tr>\n",
       "    <tr>\n",
       "      <th>...</th>\n",
       "      <td>...</td>\n",
       "      <td>...</td>\n",
       "      <td>...</td>\n",
       "      <td>...</td>\n",
       "    </tr>\n",
       "    <tr>\n",
       "      <th>208</th>\n",
       "      <td>Suspension &amp; traction</td>\n",
       "      <td>2021-08-22</td>\n",
       "      <td>Central</td>\n",
       "      <td>609.01</td>\n",
       "    </tr>\n",
       "    <tr>\n",
       "      <th>209</th>\n",
       "      <td>Suspension &amp; traction</td>\n",
       "      <td>2021-08-24</td>\n",
       "      <td>North</td>\n",
       "      <td>1036.93</td>\n",
       "    </tr>\n",
       "    <tr>\n",
       "      <th>210</th>\n",
       "      <td>Suspension &amp; traction</td>\n",
       "      <td>2021-08-24</td>\n",
       "      <td>Central</td>\n",
       "      <td>973.74</td>\n",
       "    </tr>\n",
       "    <tr>\n",
       "      <th>211</th>\n",
       "      <td>Suspension &amp; traction</td>\n",
       "      <td>2021-08-25</td>\n",
       "      <td>North</td>\n",
       "      <td>259.12</td>\n",
       "    </tr>\n",
       "    <tr>\n",
       "      <th>212</th>\n",
       "      <td>Suspension &amp; traction</td>\n",
       "      <td>2021-08-27</td>\n",
       "      <td>North</td>\n",
       "      <td>444.84</td>\n",
       "    </tr>\n",
       "  </tbody>\n",
       "</table>\n",
       "<p>213 rows × 4 columns</p>\n",
       "</div>"
      ],
      "text/plain": [
       "              product_line       Month warehouse  net_revenue\n",
       "0          Breaking system  2021-06-05   Central        54.60\n",
       "1          Breaking system  2021-06-08      West      1212.77\n",
       "2          Breaking system  2021-06-08   Central       830.67\n",
       "3          Breaking system  2021-06-09   Central       594.24\n",
       "4          Breaking system  2021-06-11   Central       404.93\n",
       "..                     ...         ...       ...          ...\n",
       "208  Suspension & traction  2021-08-22   Central       609.01\n",
       "209  Suspension & traction  2021-08-24     North      1036.93\n",
       "210  Suspension & traction  2021-08-24   Central       973.74\n",
       "211  Suspension & traction  2021-08-25     North       259.12\n",
       "212  Suspension & traction  2021-08-27     North       444.84\n",
       "\n",
       "[213 rows x 4 columns]"
      ]
     },
     "execution_count": 4,
     "metadata": {},
     "output_type": "execute_result"
    }
   ],
   "source": [
    "query1 = \"\"\"\n",
    "\t\tSELECT\n",
    "\t\t\tproduct_line,\n",
    "\t\t\tFORMAT(date, 'MMMM') AS Month,\n",
    "\t\t\twarehouse,\n",
    "\t\t\tROUND(SUM(total)::numeric,2) AS net_revenue\n",
    "\t\tFROM sales\n",
    "\t\tWHERE client_type = 'Wholesale'\n",
    "\t\tGROUP BY product_line,  warehouse, Month\n",
    "\t\tORDER BY product_line, Month, net_revenue DESC;\n",
    "  \"\"\"\n",
    "  \n",
    "result1 = duckdb.query(query1).to_df()\n",
    "result1"
   ]
  },
  {
   "cell_type": "code",
   "execution_count": 5,
   "id": "4783f8d1",
   "metadata": {
    "customType": "sql",
    "dataFrameVariableName": "df1",
    "execution": {
     "iopub.execute_input": "2023-12-31T01:53:45.334771Z",
     "iopub.status.busy": "2023-12-31T01:53:45.334282Z",
     "iopub.status.idle": "2023-12-31T01:53:45.365549Z",
     "shell.execute_reply": "2023-12-31T01:53:45.364241Z"
    },
    "executionCancelledAt": null,
    "executionTime": 680,
    "lastExecutedAt": 1703981955978,
    "lastScheduledRunId": null,
    "lastSuccessfullyExecutedCode": "/* Find the monthly total net revenue made from each warehouse for retail and wholesale seperately */\n\nSELECT\n\tTO_CHAR(date, 'Month') AS Month,\n\twarehouse,\n\tclient_type,\n\tROUND(SUM(total * (1 - payment_fee))::numeric,2) AS net_revenue\nFROM sales\nGROUP BY Month, warehouse, client_type\nORDER BY 1 DESC,2, 3;\n\t\n\t\n",
    "outputsMetadata": {
     "0": {
      "height": 316,
      "type": "dataFrame"
     }
    },
    "papermill": {
     "duration": 0.04299,
     "end_time": "2023-12-31T01:53:45.368079",
     "exception": false,
     "start_time": "2023-12-31T01:53:45.325089",
     "status": "completed"
    },
    "sqlCellMode": "dataFrame",
    "sqlSource": {
     "integrationId": "89e17161-a224-4a8a-846b-0adc0fe7a4b1",
     "type": "integration"
    },
    "tags": []
   },
   "outputs": [
    {
     "data": {
      "text/html": [
       "<div>\n",
       "<style scoped>\n",
       "    .dataframe tbody tr th:only-of-type {\n",
       "        vertical-align: middle;\n",
       "    }\n",
       "\n",
       "    .dataframe tbody tr th {\n",
       "        vertical-align: top;\n",
       "    }\n",
       "\n",
       "    .dataframe thead th {\n",
       "        text-align: right;\n",
       "    }\n",
       "</style>\n",
       "<table border=\"1\" class=\"dataframe\">\n",
       "  <thead>\n",
       "    <tr style=\"text-align: right;\">\n",
       "      <th></th>\n",
       "      <th>Month</th>\n",
       "      <th>warehouse</th>\n",
       "      <th>client_type</th>\n",
       "      <th>net_revenue</th>\n",
       "    </tr>\n",
       "  </thead>\n",
       "  <tbody>\n",
       "    <tr>\n",
       "      <th>0</th>\n",
       "      <td>2021-08-28</td>\n",
       "      <td>Central</td>\n",
       "      <td>Retail</td>\n",
       "      <td>295.83</td>\n",
       "    </tr>\n",
       "    <tr>\n",
       "      <th>1</th>\n",
       "      <td>2021-08-28</td>\n",
       "      <td>Central</td>\n",
       "      <td>Wholesale</td>\n",
       "      <td>1151.57</td>\n",
       "    </tr>\n",
       "    <tr>\n",
       "      <th>2</th>\n",
       "      <td>2021-08-28</td>\n",
       "      <td>North</td>\n",
       "      <td>Retail</td>\n",
       "      <td>705.92</td>\n",
       "    </tr>\n",
       "    <tr>\n",
       "      <th>3</th>\n",
       "      <td>2021-08-28</td>\n",
       "      <td>North</td>\n",
       "      <td>Wholesale</td>\n",
       "      <td>548.13</td>\n",
       "    </tr>\n",
       "    <tr>\n",
       "      <th>4</th>\n",
       "      <td>2021-08-28</td>\n",
       "      <td>West</td>\n",
       "      <td>Retail</td>\n",
       "      <td>170.21</td>\n",
       "    </tr>\n",
       "    <tr>\n",
       "      <th>...</th>\n",
       "      <td>...</td>\n",
       "      <td>...</td>\n",
       "      <td>...</td>\n",
       "      <td>...</td>\n",
       "    </tr>\n",
       "    <tr>\n",
       "      <th>390</th>\n",
       "      <td>2021-06-01</td>\n",
       "      <td>Central</td>\n",
       "      <td>Retail</td>\n",
       "      <td>934.10</td>\n",
       "    </tr>\n",
       "    <tr>\n",
       "      <th>391</th>\n",
       "      <td>2021-06-01</td>\n",
       "      <td>North</td>\n",
       "      <td>Retail</td>\n",
       "      <td>709.67</td>\n",
       "    </tr>\n",
       "    <tr>\n",
       "      <th>392</th>\n",
       "      <td>2021-06-01</td>\n",
       "      <td>North</td>\n",
       "      <td>Wholesale</td>\n",
       "      <td>2100.24</td>\n",
       "    </tr>\n",
       "    <tr>\n",
       "      <th>393</th>\n",
       "      <td>2021-06-01</td>\n",
       "      <td>West</td>\n",
       "      <td>Retail</td>\n",
       "      <td>54.41</td>\n",
       "    </tr>\n",
       "    <tr>\n",
       "      <th>394</th>\n",
       "      <td>2021-06-01</td>\n",
       "      <td>West</td>\n",
       "      <td>Wholesale</td>\n",
       "      <td>1579.87</td>\n",
       "    </tr>\n",
       "  </tbody>\n",
       "</table>\n",
       "<p>395 rows × 4 columns</p>\n",
       "</div>"
      ],
      "text/plain": [
       "          Month warehouse client_type  net_revenue\n",
       "0    2021-08-28   Central      Retail       295.83\n",
       "1    2021-08-28   Central   Wholesale      1151.57\n",
       "2    2021-08-28     North      Retail       705.92\n",
       "3    2021-08-28     North   Wholesale       548.13\n",
       "4    2021-08-28      West      Retail       170.21\n",
       "..          ...       ...         ...          ...\n",
       "390  2021-06-01   Central      Retail       934.10\n",
       "391  2021-06-01     North      Retail       709.67\n",
       "392  2021-06-01     North   Wholesale      2100.24\n",
       "393  2021-06-01      West      Retail        54.41\n",
       "394  2021-06-01      West   Wholesale      1579.87\n",
       "\n",
       "[395 rows x 4 columns]"
      ]
     },
     "execution_count": 5,
     "metadata": {},
     "output_type": "execute_result"
    }
   ],
   "source": [
    "# /* Find the monthly total net revenue made from each warehouse for retail and wholesale seperately */\n",
    "\n",
    "query2 = \"\"\"\n",
    "\t\tSELECT\n",
    "\t\t\tFORMAT(date, 'MMMM') AS Month,\n",
    "\t\t\twarehouse,\n",
    "\t\t\tclient_type,\n",
    "\t\t\tROUND(SUM(total)::numeric,2) AS net_revenue\n",
    "\t\tFROM sales\n",
    "\t\tGROUP BY Month, warehouse, client_type\n",
    "\t\tORDER BY 1 DESC,2, 3;\"\"\"\n",
    "\n",
    "result2 = duckdb.query(query2).to_df()\n",
    "result2"
   ]
  },
  {
   "cell_type": "code",
   "execution_count": 6,
   "id": "84bccaf7",
   "metadata": {
    "customType": "sql",
    "dataFrameVariableName": "df2",
    "execution": {
     "iopub.execute_input": "2023-12-31T01:53:45.385385Z",
     "iopub.status.busy": "2023-12-31T01:53:45.384842Z",
     "iopub.status.idle": "2023-12-31T01:53:45.411668Z",
     "shell.execute_reply": "2023-12-31T01:53:45.410799Z"
    },
    "executionCancelledAt": null,
    "executionTime": 629,
    "lastExecutedAt": 1703982102771,
    "lastScheduledRunId": null,
    "lastSuccessfullyExecutedCode": "/* Find the total revenue by product line highest to lowest*/\n\nSELECT\n\tproduct_line,\n\tROUND(SUM(total * (1 - payment_fee))::numeric,2) AS net_revenue\nFROM sales\nGROUP BY product_line\nORDER BY 2 DESC;",
    "outputsMetadata": {
     "0": {
      "height": 218,
      "type": "dataFrame"
     }
    },
    "papermill": {
     "duration": 0.039729,
     "end_time": "2023-12-31T01:53:45.415182",
     "exception": false,
     "start_time": "2023-12-31T01:53:45.375453",
     "status": "completed"
    },
    "sqlCellMode": "dataFrame",
    "sqlSource": {
     "integrationId": "89e17161-a224-4a8a-846b-0adc0fe7a4b1",
     "type": "integration"
    },
    "tags": []
   },
   "outputs": [
    {
     "data": {
      "text/html": [
       "<div>\n",
       "<style scoped>\n",
       "    .dataframe tbody tr th:only-of-type {\n",
       "        vertical-align: middle;\n",
       "    }\n",
       "\n",
       "    .dataframe tbody tr th {\n",
       "        vertical-align: top;\n",
       "    }\n",
       "\n",
       "    .dataframe thead th {\n",
       "        text-align: right;\n",
       "    }\n",
       "</style>\n",
       "<table border=\"1\" class=\"dataframe\">\n",
       "  <thead>\n",
       "    <tr style=\"text-align: right;\">\n",
       "      <th></th>\n",
       "      <th>product_line</th>\n",
       "      <th>net_revenue</th>\n",
       "    </tr>\n",
       "  </thead>\n",
       "  <tbody>\n",
       "    <tr>\n",
       "      <th>0</th>\n",
       "      <td>Suspension &amp; traction</td>\n",
       "      <td>73014.21</td>\n",
       "    </tr>\n",
       "    <tr>\n",
       "      <th>1</th>\n",
       "      <td>Frame &amp; body</td>\n",
       "      <td>69024.73</td>\n",
       "    </tr>\n",
       "    <tr>\n",
       "      <th>2</th>\n",
       "      <td>Electrical system</td>\n",
       "      <td>43612.71</td>\n",
       "    </tr>\n",
       "    <tr>\n",
       "      <th>3</th>\n",
       "      <td>Breaking system</td>\n",
       "      <td>38350.15</td>\n",
       "    </tr>\n",
       "    <tr>\n",
       "      <th>4</th>\n",
       "      <td>Engine</td>\n",
       "      <td>37945.38</td>\n",
       "    </tr>\n",
       "    <tr>\n",
       "      <th>5</th>\n",
       "      <td>Miscellaneous</td>\n",
       "      <td>27165.82</td>\n",
       "    </tr>\n",
       "  </tbody>\n",
       "</table>\n",
       "</div>"
      ],
      "text/plain": [
       "            product_line  net_revenue\n",
       "0  Suspension & traction     73014.21\n",
       "1           Frame & body     69024.73\n",
       "2      Electrical system     43612.71\n",
       "3        Breaking system     38350.15\n",
       "4                 Engine     37945.38\n",
       "5          Miscellaneous     27165.82"
      ]
     },
     "execution_count": 6,
     "metadata": {},
     "output_type": "execute_result"
    }
   ],
   "source": [
    "# /* Find the total revenue by product line highest to lowest*/\n",
    "\n",
    "query3 = \"\"\"\n",
    "\t\t\tSELECT\n",
    "\t\t\t\tproduct_line,\n",
    "\t\t\t\tROUND(SUM(total)::numeric,2) AS net_revenue\n",
    "\t\t\tFROM sales\n",
    "\t\t\tGROUP BY product_line\n",
    "\t\t\tORDER BY 2 DESC;\n",
    "   \"\"\"\n",
    "   \n",
    "result3 = duckdb.query(query3).to_df()\n",
    "result3"
   ]
  },
  {
   "cell_type": "code",
   "execution_count": 7,
   "id": "6185abf8",
   "metadata": {
    "customType": "sql",
    "dataFrameVariableName": "df3",
    "execution": {
     "iopub.execute_input": "2023-12-31T01:53:45.434235Z",
     "iopub.status.busy": "2023-12-31T01:53:45.433022Z",
     "iopub.status.idle": "2023-12-31T01:53:45.476310Z",
     "shell.execute_reply": "2023-12-31T01:53:45.475102Z"
    },
    "executionCancelledAt": null,
    "executionTime": 837,
    "lastExecutedAt": 1703982519222,
    "lastScheduledRunId": null,
    "lastSuccessfullyExecutedCode": "/* Find the relative percentage of total revenue by warehouse */\n\nWITH cte_revenue AS(\n\tSELECT\n\t\twarehouse,\n\t\tROUND(SUM(total * (1 - payment_fee))::numeric,2) AS net_revenue\n\tFROM sales\n\tGROUP BY warehouse\n),\ncte_totalrevenue AS(\n\tSELECT \n\t\tSUM(net_revenue) AS total_revenue\n    FROM cte_revenue\n)\nSELECT\n    r.warehouse,\n    r.net_revenue,\n    ROUND((r.net_revenue / tr.total_revenue) * 100, 2) AS revenue_percentage\nFROM cte_revenue r\nCROSS JOIN cte_totalrevenue tr\nORDER BY 3 DESC;\n",
    "outputsMetadata": {
     "0": {
      "height": 144,
      "type": "dataFrame"
     }
    },
    "papermill": {
     "duration": 0.056013,
     "end_time": "2023-12-31T01:53:45.479346",
     "exception": false,
     "start_time": "2023-12-31T01:53:45.423333",
     "status": "completed"
    },
    "sqlCellMode": "dataFrame",
    "sqlSource": {
     "integrationId": "89e17161-a224-4a8a-846b-0adc0fe7a4b1",
     "type": "integration"
    },
    "tags": []
   },
   "outputs": [
    {
     "data": {
      "text/html": [
       "<div>\n",
       "<style scoped>\n",
       "    .dataframe tbody tr th:only-of-type {\n",
       "        vertical-align: middle;\n",
       "    }\n",
       "\n",
       "    .dataframe tbody tr th {\n",
       "        vertical-align: top;\n",
       "    }\n",
       "\n",
       "    .dataframe thead th {\n",
       "        text-align: right;\n",
       "    }\n",
       "</style>\n",
       "<table border=\"1\" class=\"dataframe\">\n",
       "  <thead>\n",
       "    <tr style=\"text-align: right;\">\n",
       "      <th></th>\n",
       "      <th>warehouse</th>\n",
       "      <th>net_revenue</th>\n",
       "      <th>revenue_percentage</th>\n",
       "    </tr>\n",
       "  </thead>\n",
       "  <tbody>\n",
       "    <tr>\n",
       "      <th>0</th>\n",
       "      <td>Central</td>\n",
       "      <td>141982.88</td>\n",
       "      <td>49.11</td>\n",
       "    </tr>\n",
       "    <tr>\n",
       "      <th>1</th>\n",
       "      <td>North</td>\n",
       "      <td>100203.63</td>\n",
       "      <td>34.66</td>\n",
       "    </tr>\n",
       "    <tr>\n",
       "      <th>2</th>\n",
       "      <td>West</td>\n",
       "      <td>46926.49</td>\n",
       "      <td>16.23</td>\n",
       "    </tr>\n",
       "  </tbody>\n",
       "</table>\n",
       "</div>"
      ],
      "text/plain": [
       "  warehouse  net_revenue  revenue_percentage\n",
       "0   Central    141982.88               49.11\n",
       "1     North    100203.63               34.66\n",
       "2      West     46926.49               16.23"
      ]
     },
     "execution_count": 7,
     "metadata": {},
     "output_type": "execute_result"
    }
   ],
   "source": [
    "# /* Find the relative percentage of total revenue by warehouse */\n",
    "\n",
    "query4 = \"\"\"\n",
    "\t\tWITH cte_revenue AS(\n",
    "\t\t\tSELECT\n",
    "\t\t\t\twarehouse,\n",
    "\t\t\t\tROUND(SUM(total)::numeric,2) AS net_revenue\n",
    "\t\t\tFROM sales\n",
    "\t\t\tGROUP BY warehouse\n",
    "\t\t),\n",
    "\t\tcte_totalrevenue AS(\n",
    "\t\t\tSELECT \n",
    "\t\t\t\tSUM(net_revenue) AS total_revenue\n",
    "\t\t\tFROM cte_revenue\n",
    "\t\t)\n",
    "\t\tSELECT\n",
    "\t\t\tr.warehouse,\n",
    "\t\t\tr.net_revenue,\n",
    "\t\t\tROUND((r.net_revenue / tr.total_revenue) * 100, 2) AS revenue_percentage\n",
    "\t\tFROM cte_revenue r\n",
    "\t\tCROSS JOIN cte_totalrevenue tr\n",
    "\t\tORDER BY 3 DESC;\n",
    "\"\"\"\n",
    "\n",
    "result4 = duckdb.query(query4).to_df()\n",
    "result4"
   ]
  },
  {
   "cell_type": "code",
   "execution_count": 8,
   "id": "8ca6e9d7",
   "metadata": {
    "customType": "sql",
    "dataFrameVariableName": "df4",
    "execution": {
     "iopub.execute_input": "2023-12-31T01:53:45.498088Z",
     "iopub.status.busy": "2023-12-31T01:53:45.497316Z",
     "iopub.status.idle": "2023-12-31T01:53:45.526144Z",
     "shell.execute_reply": "2023-12-31T01:53:45.524877Z"
    },
    "executionCancelledAt": null,
    "executionTime": 603,
    "lastExecutedAt": 1703983174322,
    "lastScheduledRunId": null,
    "lastSuccessfullyExecutedCode": "/* Find the distribution of payment methods according to total price (make small, medium and large purchase bins) as relative percentage */\n\nSELECT\n\tpayment,\n\tCASE \n\t\tWHEN total < 100 THEN 'small'\n\t\tWHEN total < 1000 AND total >= 100 THEN 'medium'\n\t\tWHEN total >= 1000 THEN 'large' END AS purchase_size,\n\tCOUNT(payment) AS payment_m\nFROM sales\nGROUP BY payment, purchase_size\nORDER BY 1,2;",
    "outputsMetadata": {
     "0": {
      "height": 243,
      "type": "dataFrame"
     }
    },
    "papermill": {
     "duration": 0.041981,
     "end_time": "2023-12-31T01:53:45.529384",
     "exception": false,
     "start_time": "2023-12-31T01:53:45.487403",
     "status": "completed"
    },
    "sqlCellMode": "dataFrame",
    "sqlSource": {
     "integrationId": "89e17161-a224-4a8a-846b-0adc0fe7a4b1",
     "type": "integration"
    },
    "tags": []
   },
   "outputs": [
    {
     "data": {
      "text/html": [
       "<div>\n",
       "<style scoped>\n",
       "    .dataframe tbody tr th:only-of-type {\n",
       "        vertical-align: middle;\n",
       "    }\n",
       "\n",
       "    .dataframe tbody tr th {\n",
       "        vertical-align: top;\n",
       "    }\n",
       "\n",
       "    .dataframe thead th {\n",
       "        text-align: right;\n",
       "    }\n",
       "</style>\n",
       "<table border=\"1\" class=\"dataframe\">\n",
       "  <thead>\n",
       "    <tr style=\"text-align: right;\">\n",
       "      <th></th>\n",
       "      <th>payment</th>\n",
       "      <th>purchase_size</th>\n",
       "      <th>payment_m</th>\n",
       "    </tr>\n",
       "  </thead>\n",
       "  <tbody>\n",
       "    <tr>\n",
       "      <th>0</th>\n",
       "      <td>Cash</td>\n",
       "      <td>medium</td>\n",
       "      <td>74</td>\n",
       "    </tr>\n",
       "    <tr>\n",
       "      <th>1</th>\n",
       "      <td>Cash</td>\n",
       "      <td>small</td>\n",
       "      <td>42</td>\n",
       "    </tr>\n",
       "    <tr>\n",
       "      <th>2</th>\n",
       "      <td>Credit card</td>\n",
       "      <td>medium</td>\n",
       "      <td>427</td>\n",
       "    </tr>\n",
       "    <tr>\n",
       "      <th>3</th>\n",
       "      <td>Credit card</td>\n",
       "      <td>small</td>\n",
       "      <td>232</td>\n",
       "    </tr>\n",
       "    <tr>\n",
       "      <th>4</th>\n",
       "      <td>Transfer</td>\n",
       "      <td>large</td>\n",
       "      <td>57</td>\n",
       "    </tr>\n",
       "    <tr>\n",
       "      <th>5</th>\n",
       "      <td>Transfer</td>\n",
       "      <td>medium</td>\n",
       "      <td>159</td>\n",
       "    </tr>\n",
       "    <tr>\n",
       "      <th>6</th>\n",
       "      <td>Transfer</td>\n",
       "      <td>small</td>\n",
       "      <td>9</td>\n",
       "    </tr>\n",
       "  </tbody>\n",
       "</table>\n",
       "</div>"
      ],
      "text/plain": [
       "       payment purchase_size  payment_m\n",
       "0         Cash        medium         74\n",
       "1         Cash         small         42\n",
       "2  Credit card        medium        427\n",
       "3  Credit card         small        232\n",
       "4     Transfer         large         57\n",
       "5     Transfer        medium        159\n",
       "6     Transfer         small          9"
      ]
     },
     "execution_count": 8,
     "metadata": {},
     "output_type": "execute_result"
    }
   ],
   "source": [
    "# /* Find the distribution of payment methods according to total price (make small, medium and large purchase bins) as relative percentage */\n",
    "\n",
    "query5 = \"\"\"\n",
    "\t\t\tSELECT\n",
    "\t\t\t\tpayment,\n",
    "\t\t\t\tCASE \n",
    "\t\t\t\t\tWHEN total < 100 THEN 'small'\n",
    "\t\t\t\t\tWHEN total < 1000 AND total >= 100 THEN 'medium'\n",
    "\t\t\t\t\tWHEN total >= 1000 THEN 'large' END AS purchase_size,\n",
    "\t\t\t\tCOUNT(payment) AS payment_m\n",
    "\t\t\tFROM sales\n",
    "\t\t\tGROUP BY payment, purchase_size\n",
    "\t\t\tORDER BY 1,2;\n",
    "\"\"\"\n",
    "\n",
    "result5 = duckdb.query(query5).to_df()\n",
    "result5"
   ]
  }
 ],
 "metadata": {
  "celltoolbar": "Raw Cell Format",
  "editor": "DataCamp Workspace",
  "kaggle": {
   "accelerator": "none",
   "dataSources": [
    {
     "datasetId": 4138504,
     "sourceId": 7310846,
     "sourceType": "datasetVersion"
    }
   ],
   "dockerImageVersionId": 30626,
   "isGpuEnabled": false,
   "isInternetEnabled": true,
   "language": "python",
   "sourceType": "notebook"
  },
  "kernelspec": {
   "display_name": "Python 3",
   "language": "python",
   "name": "python3"
  },
  "language_info": {
   "codemirror_mode": {
    "name": "ipython",
    "version": 3
   },
   "file_extension": ".py",
   "mimetype": "text/x-python",
   "name": "python",
   "nbconvert_exporter": "python",
   "pygments_lexer": "ipython3",
   "version": "3.10.12"
  },
  "papermill": {
   "default_parameters": {},
   "duration": 22.676868,
   "end_time": "2023-12-31T01:53:46.260810",
   "environment_variables": {},
   "exception": null,
   "input_path": "__notebook__.ipynb",
   "output_path": "__notebook__.ipynb",
   "parameters": {},
   "start_time": "2023-12-31T01:53:23.583942",
   "version": "2.4.0"
  },
  "toc": {
   "base_numbering": 1,
   "nav_menu": {},
   "number_sections": true,
   "sideBar": true,
   "skip_h1_title": true,
   "title_cell": "Table of Contents",
   "title_sidebar": "Contents",
   "toc_cell": false,
   "toc_position": {},
   "toc_section_display": true,
   "toc_window_display": true
  },
  "vscode": {
   "interpreter": {
    "hash": "4c28dce1b92814dac96c640b6c1f64aef8100cfec6687e74ab3caef459440498"
   }
  }
 },
 "nbformat": 4,
 "nbformat_minor": 5
}
