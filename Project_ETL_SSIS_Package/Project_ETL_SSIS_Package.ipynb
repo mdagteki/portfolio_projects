{
 "cells": [
  {
   "cell_type": "markdown",
   "metadata": {},
   "source": [
    "# CREATING AN ETL PIPELINE WITH SSIS\n",
    "\n",
    "## Introduction\n",
    "\n",
    "In this notebook, you will learn how to create an ETL pipeline with SSIS. ETL stands for Extract, Transform, and Load. We will Extract our data from a flat file source, Transform it and Load it into a relational database. Our flat file source will be a CSV file (part of the GreenConstruct Sales Database - you can download it from here https://raw.githubusercontent.com/mdagteki/etl-projects/main/Project_ETL_SSIS_Package/GreenConstruct_Sales_Dataset_Long.csv)\n",
    "\n"
   ]
  },
  {
   "cell_type": "markdown",
   "metadata": {},
   "source": [
    "Here is the structure of the CSV file:"
   ]
  },
  {
   "cell_type": "code",
   "execution_count": 1,
   "metadata": {},
   "outputs": [
    {
     "data": {
      "text/html": [
       "<div>\n",
       "<style scoped>\n",
       "    .dataframe tbody tr th:only-of-type {\n",
       "        vertical-align: middle;\n",
       "    }\n",
       "\n",
       "    .dataframe tbody tr th {\n",
       "        vertical-align: top;\n",
       "    }\n",
       "\n",
       "    .dataframe thead th {\n",
       "        text-align: right;\n",
       "    }\n",
       "</style>\n",
       "<table border=\"1\" class=\"dataframe\">\n",
       "  <thead>\n",
       "    <tr style=\"text-align: right;\">\n",
       "      <th></th>\n",
       "      <th>Month</th>\n",
       "      <th>Region</th>\n",
       "      <th>ProductGroup</th>\n",
       "      <th>Sales</th>\n",
       "    </tr>\n",
       "  </thead>\n",
       "  <tbody>\n",
       "    <tr>\n",
       "      <th>0</th>\n",
       "      <td>2010-01-01</td>\n",
       "      <td>Central</td>\n",
       "      <td>Accessories</td>\n",
       "      <td>375.00</td>\n",
       "    </tr>\n",
       "    <tr>\n",
       "      <th>1</th>\n",
       "      <td>2010-01-01</td>\n",
       "      <td>Central</td>\n",
       "      <td>Construction Parts</td>\n",
       "      <td>72360.93</td>\n",
       "    </tr>\n",
       "    <tr>\n",
       "      <th>2</th>\n",
       "      <td>2010-01-01</td>\n",
       "      <td>Central</td>\n",
       "      <td>Pipes</td>\n",
       "      <td>14013.93</td>\n",
       "    </tr>\n",
       "    <tr>\n",
       "      <th>3</th>\n",
       "      <td>2010-01-01</td>\n",
       "      <td>Central</td>\n",
       "      <td>Tubes</td>\n",
       "      <td>2476.40</td>\n",
       "    </tr>\n",
       "    <tr>\n",
       "      <th>4</th>\n",
       "      <td>2010-01-01</td>\n",
       "      <td>East</td>\n",
       "      <td>Accessories</td>\n",
       "      <td>40755.19</td>\n",
       "    </tr>\n",
       "    <tr>\n",
       "      <th>5</th>\n",
       "      <td>2010-01-01</td>\n",
       "      <td>East</td>\n",
       "      <td>Construction Parts</td>\n",
       "      <td>71147.43</td>\n",
       "    </tr>\n",
       "    <tr>\n",
       "      <th>6</th>\n",
       "      <td>2010-01-01</td>\n",
       "      <td>East</td>\n",
       "      <td>Pipes</td>\n",
       "      <td>100408.35</td>\n",
       "    </tr>\n",
       "    <tr>\n",
       "      <th>7</th>\n",
       "      <td>2010-01-01</td>\n",
       "      <td>East</td>\n",
       "      <td>Tubes</td>\n",
       "      <td>23224.78</td>\n",
       "    </tr>\n",
       "    <tr>\n",
       "      <th>8</th>\n",
       "      <td>2010-01-01</td>\n",
       "      <td>North</td>\n",
       "      <td>Accessories</td>\n",
       "      <td>8024.25</td>\n",
       "    </tr>\n",
       "    <tr>\n",
       "      <th>9</th>\n",
       "      <td>2010-01-01</td>\n",
       "      <td>North</td>\n",
       "      <td>Construction Parts</td>\n",
       "      <td>117884.41</td>\n",
       "    </tr>\n",
       "  </tbody>\n",
       "</table>\n",
       "</div>"
      ],
      "text/plain": [
       "        Month   Region        ProductGroup      Sales\n",
       "0  2010-01-01  Central         Accessories     375.00\n",
       "1  2010-01-01  Central  Construction Parts   72360.93\n",
       "2  2010-01-01  Central               Pipes   14013.93\n",
       "3  2010-01-01  Central               Tubes    2476.40\n",
       "4  2010-01-01     East         Accessories   40755.19\n",
       "5  2010-01-01     East  Construction Parts   71147.43\n",
       "6  2010-01-01     East               Pipes  100408.35\n",
       "7  2010-01-01     East               Tubes   23224.78\n",
       "8  2010-01-01    North         Accessories    8024.25\n",
       "9  2010-01-01    North  Construction Parts  117884.41"
      ]
     },
     "execution_count": 1,
     "metadata": {},
     "output_type": "execute_result"
    }
   ],
   "source": [
    "import pandas as pd\n",
    "data = pd.read_csv('GreenConstruct_Sales_Dataset_Long.csv')\n",
    "data.head(10)"
   ]
  },
  {
   "cell_type": "markdown",
   "metadata": {},
   "source": [
    "Our data contains 4 columns and 960 rows. The sales data is in a long format and contains sales totals for each month from 2010 to 2013.\n",
    "We are going to EXTRACT this data to our SSIS solution project and TRANSFORM the data into different tables according to Regions and Product Groups then LOAD it into our relational database."
   ]
  },
  {
   "cell_type": "markdown",
   "metadata": {},
   "source": [
    "## Create an ETL pipeline\n",
    "### EXTRACT data from flat file\n",
    "\n",
    "First we are going to create a Data Flow Task in our Control Flow and name it \"Load CSV File to Source and distribute data according to region and product categories\". Then we will create a flat file connection to our CSV file and name it LoadCsvFromSource. Inside our Control Flow-Data Flow task, we will create a Flat File source and use our LoadCsvFromSource connection to Extract the data into our pipeline.\n",
    "\n",
    "![image.png](P_003.png)\n",
    "\n",
    "![image.png](P_007.png)\n",
    "\n",
    "![image.png](P_008.png)"
   ]
  },
  {
   "cell_type": "markdown",
   "metadata": {},
   "source": [
    "### TRANSFORM data\n",
    "\n",
    "Now we need to TRANSFORM our data into two groups of multiple tables for each Region and Product group. We will cast our data into two different sources and transform them separately. To be able to do that we are going to Multicast our data into two different Data Flow Tasks named \"Distribute Data According to Regions\" and \"Distribute Data According to Product Groups\".\n",
    "\n",
    "![image.png](P_009.png)\n",
    "\n",
    "For each group, we are going to create a Conditional Split Transformation to be able to filter the data according to certain conditions",
    "\n",
    "![image.png](P_010.png)\n",
    "\n",
    "![image.png](P_011.png)\n"
   ]
  },
  {
   "cell_type": "markdown",
   "metadata": {},
   "source": [
    "### LOAD data into relational database\n",
    "\n",
    "Now we are going to LOAD our data into our relational database. To do that we will create tables in our SQL server first, Luckily Visual Studio for SQL Server has an SSIS package that will allow us to do that easily when we add the destination. First we will add ADO.NET destination to each of our Conditional Split Transformation outputs. 5 for Region and 4 for Product Groups. For each destination we will create a table in our SQL server easily by hitting the new button in ADO NET Destination Editor and correct the name of the table.\n",
    "\n",
    "![image.png](P_012.png)\n",
    "\n",
    "We are going to repeat this for all of our destinations. (Total 9)"
   ]
  },
  {
   "cell_type": "markdown",
   "metadata": {},
   "source": [
    "Our Data Flow Task will look like this:\n",
    "\n",
    "![image.png](P_002.png)\n"
   ]
  },
  {
   "cell_type": "markdown",
   "metadata": {},
   "source": [
    "### Executing the ETL pipeline SSIS package\n",
    "Now our package is ready to be executed.  We could either use the green start button in the top menu or we could right-click our control flow object and execute it.\n",
    "\n",
    "![image.png](P_013.png)\n",
    "\n",
    "![image.png](P_014.png)"
   ]
  },
  {
   "cell_type": "markdown",
   "metadata": {},
   "source": [
    "After execution, if everything is done correctly we should see all green thick marks in our data flow objects.\n",
    "\n",
    "![image.png](P_001.png)\n",
    "\n",
    " Also Now we can see our newly created tables in our SQL server and our data in our relational database.\n",
    "\n",
    "![image.png](P_004.png)\n",
    "\n",
    "![image.png](P_005.png)\n",
    "\n",
    "![image.png](P_006.png)\n",
    "\n"
   ]
  },
  {
   "cell_type": "markdown",
   "metadata": {},
   "source": [
    "# Conclusion\n",
    "\n",
    "We have successfully created an ETL pipeline using SSIS package. As you will see it is not a complicated process at all."
   ]
  }
 ],
 "metadata": {
  "kernelspec": {
   "display_name": "Python 3",
   "language": "python",
   "name": "python3"
  },
  "language_info": {
   "codemirror_mode": {
    "name": "ipython",
    "version": 3
   },
   "file_extension": ".py",
   "mimetype": "text/x-python",
   "name": "python",
   "nbconvert_exporter": "python",
   "pygments_lexer": "ipython3",
   "version": "3.11.6"
  }
 },
 "nbformat": 4,
 "nbformat_minor": 2
}
